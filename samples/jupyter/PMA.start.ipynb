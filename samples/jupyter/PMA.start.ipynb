{
 "cells": [
  {
   "cell_type": "markdown",
   "metadata": {},
   "source": [
    "# Setup\n",
    "Use pip to download and install the necessary libraries if needed"
   ]
  },
  {
   "cell_type": "code",
   "execution_count": null,
   "metadata": {},
   "outputs": [],
   "source": [
    "!pip install --upgrade pma_python\n",
    "!pip install --upgrade pprint"
   ]
  },
  {
   "cell_type": "code",
   "execution_count": null,
   "metadata": {},
   "outputs": [],
   "source": [
    "#\n",
    "# helper libraries\n",
    "#\n",
    "import pprint as pp    # pretty print library is better to print list and dictionary structures\n",
    "import os\n",
    "\n",
    "#\n",
    "# pma_php library\n",
    "#\n",
    "from pma_python import core\n",
    "print(\"pma_python library loaded; version\", core.__version__)\n",
    "\n",
    "# connection parameters to be used throughout this notebook\n",
    "pma_start_slide_dir = \"C:/wsi\"\n",
    "\n",
    "if core.is_lite():\n",
    "    print (\"Connected to PMA.start\")\n",
    "else:\n",
    "    raise Exception(\"Unable to detect PMA.start! Please start PMA.start, or download it from http://free.pathomation.com\")"
   ]
  },
  {
   "cell_type": "code",
   "execution_count": null,
   "metadata": {},
   "outputs": [],
   "source": [
    "# only needed when debugging code for extra error messages:\n",
    "core.set_debug_flag(True)"
   ]
  },
  {
   "cell_type": "markdown",
   "metadata": {},
   "source": [
    "# PMA.start examples\n",
    "example 10: identifying PMA.start"
   ]
  },
  {
   "cell_type": "code",
   "execution_count": null,
   "metadata": {},
   "outputs": [],
   "source": [
    "# are you running PMA.start on localhost?\n",
    "print(\"Are you running PMA.start? \" + str(core.is_lite()))\n",
    "\n",
    "# testing actual \"full\" PMA.core instance that's out there\n",
    "pma_core_location = \"https://host.pathomation.com/sandbox/2/pma.core\"\n",
    "print(\"Are you running PMA.start at \" + pma_core_location + \"? \" + str(core.is_lite(pma_core_location)))\n",
    "\n",
    "# testing against a non-existing end-point\n",
    "pma_core_location = \"https://www.google.com\"\n",
    "print(\"Are you running PMA.start at \" + pma_core_location + \"? \" + str(core.is_lite(pma_core_location)))"
   ]
  },
  {
   "cell_type": "markdown",
   "metadata": {},
   "source": [
    "example 20: getting version information about PMA.start"
   ]
  },
  {
   "cell_type": "code",
   "execution_count": null,
   "metadata": {},
   "outputs": [],
   "source": [
    "# assuming we have PMA.start running; what's the version number?\n",
    "print(\"You are running PMA.start version \" + core.get_version_info())"
   ]
  },
  {
   "cell_type": "markdown",
   "metadata": {},
   "source": [
    "example 30: connect to PMA.start"
   ]
  },
  {
   "cell_type": "code",
   "execution_count": null,
   "metadata": {},
   "outputs": [],
   "source": [
    "sessionID = core.connect()        # no parameters needed for PMA.start\n",
    "\n",
    "if (sessionID == None):\n",
    "\tprint(\"Unable to connect to PMA.start\");\n",
    "else:\n",
    "\tprint(\"Successfully connected to PMA.start; sessionID = \", sessionID)"
   ]
  },
  {
   "cell_type": "markdown",
   "metadata": {},
   "source": [
    "example 40: getting drive letters from PMA.start"
   ]
  },
  {
   "cell_type": "code",
   "execution_count": null,
   "metadata": {},
   "outputs": [],
   "source": [
    "print(\"You have the following drives in your system: \")\n",
    "rootdirs = core.get_root_directories()\n",
    "pp.pprint(rootdirs)"
   ]
  },
  {
   "cell_type": "markdown",
   "metadata": {},
   "source": [
    "example 60: getting directories PMA.start"
   ]
  },
  {
   "cell_type": "code",
   "execution_count": null,
   "metadata": {},
   "outputs": [],
   "source": [
    "rootdirs = core.get_root_directories();\n",
    "print(\"Directories found in \", rootdirs[0],\":\")\n",
    "\n",
    "dirs = core.get_directories(rootdirs[0])\n",
    "pp.pprint(dirs)"
   ]
  },
  {
   "cell_type": "markdown",
   "metadata": {},
   "source": [
    "example 70: get first non empty directory PMA.start"
   ]
  },
  {
   "cell_type": "code",
   "execution_count": null,
   "metadata": {},
   "outputs": [],
   "source": [
    "slide_dir = core.get_first_non_empty_directory()\n",
    "print (slide_dir)"
   ]
  },
  {
   "cell_type": "markdown",
   "metadata": {},
   "source": [
    "example 80: getting slides PMA.start (recursively and non-recursively)"
   ]
  },
  {
   "cell_type": "code",
   "execution_count": null,
   "metadata": {},
   "outputs": [],
   "source": [
    "slide_dir = pma_start_slide_dir\n",
    "print(\"Looking for slides in \" + slide_dir)\n",
    "print()\n",
    "\n",
    "print (\"**Non-recursive:\")\n",
    "print(core.get_slides(slide_dir))\n",
    "\n",
    "print (\"\\n**One-level deep recursion:\")\n",
    "print(core.get_slides(slide_dir, recursive = 1))\n",
    "\n",
    "print (\"\\n**Full recursion:\")\n",
    "print(core.get_slides(slide_dir, recursive = True))\n"
   ]
  },
  {
   "cell_type": "markdown",
   "metadata": {},
   "source": [
    "example 90: get UID for a slide in PMA.start"
   ]
  },
  {
   "cell_type": "code",
   "execution_count": null,
   "metadata": {},
   "outputs": [],
   "source": [
    "slide_dir = pma_start_slide_dir\n",
    "\n",
    "print(\"Looking for slides in \" + slide_dir)\n",
    "print()\n",
    "\n",
    "for slide in core.get_slides(slide_dir):\n",
    "\tprint (slide,\" - \", core.get_uid(slide))"
   ]
  },
  {
   "cell_type": "markdown",
   "metadata": {},
   "source": [
    "example 100: get fingerprint for a slide in PMA.start"
   ]
  },
  {
   "cell_type": "code",
   "execution_count": null,
   "metadata": {},
   "outputs": [],
   "source": [
    "slide_dir = pma_start_slide_dir\n",
    "\n",
    "print(\"Looking for slides in \" + slide_dir)\n",
    "print()\n",
    "\n",
    "for slide in core.get_slides(slide_dir):\n",
    "\tprint (slide,\" - \", core.get_fingerprint(slide))"
   ]
  },
  {
   "cell_type": "markdown",
   "metadata": {},
   "source": [
    "example 110: SlideInfo PMA.start"
   ]
  },
  {
   "cell_type": "code",
   "execution_count": null,
   "metadata": {},
   "outputs": [],
   "source": [
    "slide_dir = pma_start_slide_dir\n",
    "print(\"Looking for slides in\", slide_dir)\n",
    "print()\n",
    "\n",
    "for slide in core.get_slides(slide_dir):\n",
    "    print(\"***\", slide)\n",
    "    try:\n",
    "        pp.pprint(core.get_slide_info(slide))\n",
    "    except:\n",
    "        print(\"**Unable to get slide info from this one\")"
   ]
  },
  {
   "cell_type": "markdown",
   "metadata": {},
   "source": [
    "example 115: SlideInfo on an empty file PMA.start"
   ]
  },
  {
   "cell_type": "code",
   "execution_count": null,
   "metadata": {},
   "outputs": [],
   "source": [
    "slide_path = (os.getcwd() + \"\\\\\").replace(\"\\\\\\\\\", \"\\\\\") + \"temp.ndpi\"\n",
    "open(slide_path, 'a').close()\n",
    "print(\"Created\", slide_path)\n",
    "translated_path = slide_path.replace(\"\\\\\", \"/\")\n",
    "print(\"Getting info on\", translated_path)\n",
    "core.get_slide_info(translated_path)\n",
    "os.remove(slide_path)"
   ]
  },
  {
   "cell_type": "markdown",
   "metadata": {},
   "source": [
    "example 120: slide dimensions PMA.start"
   ]
  },
  {
   "cell_type": "code",
   "execution_count": null,
   "metadata": {},
   "outputs": [],
   "source": [
    "for slide in core.get_slides(pma_start_slide_dir):\n",
    "    print(\"[\" + slide + \"]\")\n",
    "    try:\n",
    "        xdim_pix, ydim_pix = core.get_pixel_dimensions(slide)\n",
    "        xdim_phys, ydim_phys = core.get_physical_dimensions(slide)\n",
    "\n",
    "        print(\"Pixel dimensions of slide: \", end=\"\")\n",
    "        print(xdim_pix, \"x\", ydim_pix)\n",
    "\n",
    "        print(\"Slide surface area represented by image: \", end=\"\")\n",
    "        print(str(xdim_phys) + \"µm x \" + str(ydim_phys) + \"µm = \", end=\"\")\n",
    "        print(xdim_phys * ydim_phys / 1E6, \" mm2\")\n",
    "        \n",
    "    except:\n",
    "        print(\"**Unable to parse\", slide)"
   ]
  },
  {
   "cell_type": "markdown",
   "metadata": {},
   "source": [
    "example 130: get all files that make up a particular slide"
   ]
  },
  {
   "cell_type": "code",
   "execution_count": null,
   "metadata": {},
   "outputs": [],
   "source": [
    "for slide in core.get_slides(pma_start_slide_dir):\n",
    "    print(slide);\n",
    "    pp.pprint(core.get_files_for_slide(slide))"
   ]
  },
  {
   "cell_type": "markdown",
   "metadata": {},
   "source": [
    "example 140: who are you in PMA.start"
   ]
  },
  {
   "cell_type": "code",
   "execution_count": null,
   "metadata": {},
   "outputs": [],
   "source": [
    "core.who_am_i()"
   ]
  },
  {
   "cell_type": "markdown",
   "metadata": {},
   "source": [
    "example 150: investigate zoomlevels PMA.start"
   ]
  },
  {
   "cell_type": "code",
   "execution_count": null,
   "metadata": {},
   "outputs": [],
   "source": [
    "for slide in core.get_slides(pma_start_slide_dir):\n",
    "    print(\"***\", slide)\n",
    "    print(\"  max zoomlevel:\", core.get_max_zoomlevel(slide))\n",
    "    print(\"  zoomlevel list:\")\n",
    "    pp.pprint(core.get_zoomlevels_list(slide))\n",
    "    print(\"  zoomlevel dictionary:\")\n",
    "    pp.pprint(core.get_zoomlevels_dict(slide))"
   ]
  },
  {
   "cell_type": "markdown",
   "metadata": {},
   "source": [
    "example 160: investigate magnification characteristics PMA.start"
   ]
  },
  {
   "cell_type": "code",
   "execution_count": null,
   "metadata": {},
   "outputs": [],
   "source": []
  }
 ],
 "metadata": {
  "kernelspec": {
   "display_name": "Python 3",
   "language": "python",
   "name": "python3"
  },
  "language_info": {
   "codemirror_mode": {
    "name": "ipython",
    "version": 3
   },
   "file_extension": ".py",
   "mimetype": "text/x-python",
   "name": "python",
   "nbconvert_exporter": "python",
   "pygments_lexer": "ipython3",
   "version": "3.7.3"
  }
 },
 "nbformat": 4,
 "nbformat_minor": 2
}
