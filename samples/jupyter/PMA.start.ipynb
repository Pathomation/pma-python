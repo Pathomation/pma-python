{
 "cells": [
  {
   "cell_type": "code",
   "execution_count": null,
   "metadata": {},
   "outputs": [],
   "source": [
    "!pip install --upgrade pma_python\n",
    "!pip install --upgrade pprint"
   ]
  },
  {
   "cell_type": "code",
   "execution_count": null,
   "metadata": {},
   "outputs": [],
   "source": [
    "#\n",
    "# helper libraries\n",
    "#\n",
    "import pprint as pp    # pretty print library is better to print list and dictionary structures\n",
    "\n",
    "#\n",
    "# pma_php library\n",
    "#\n",
    "from pma_python import core\n",
    "print(\"pma_python library loaded; version\", core.__version__)\n",
    "\n",
    "if core.is_lite():\n",
    "    print (\"Connected to PMA.start\")\n",
    "else:\n",
    "    raise Exception(\"Unable to detect PMA.start! Please start PMA.start, or download it from http://free.pathomation.com\")"
   ]
  },
  {
   "cell_type": "code",
   "execution_count": null,
   "metadata": {},
   "outputs": [],
   "source": [
    "# only needed when debugging code for extra error messages:\n",
    "core.set_debug_flag(True)"
   ]
  },
  {
   "cell_type": "code",
   "execution_count": null,
   "metadata": {},
   "outputs": [],
   "source": [
    "#\n",
    "# example 10: identifying PMA.start\n",
    "#\n",
    "\n",
    "# are you running PMA.start on localhost?\n",
    "print(\"Are you running PMA.start? \" + str(core.is_lite()))\n",
    "\n",
    "# testing actual \"full\" PMA.core instance that's out there\n",
    "pma_core_location = \"https://host.pathomation.com/sandbox/2/pma.core\"\n",
    "print(\"Are you running PMA.start at \" + pma_core_location + \"? \" + str(core.is_lite(pma_core_location)))\n",
    "\n",
    "# testing against a non-existing end-point\n",
    "pma_core_location = \"https://www.google.com\"\n",
    "print(\"Are you running PMA.start at \" + pma_core_location + \"? \" + str(core.is_lite(pma_core_location)))"
   ]
  },
  {
   "cell_type": "code",
   "execution_count": null,
   "metadata": {},
   "outputs": [],
   "source": [
    "#\n",
    "# example 20: getting version information about PMA.start\n",
    "#\n",
    "\n",
    "# assuming we have PMA.start running; what's the version number?\n",
    "print(\"You are running PMA.start version \" + core.get_version_info())"
   ]
  },
  {
   "cell_type": "code",
   "execution_count": null,
   "metadata": {},
   "outputs": [],
   "source": [
    "#\n",
    "# example 30: connect to PMA.start\n",
    "#\n",
    "\n",
    "sessionID = core.connect()        # no parameters needed for PMA.start\n",
    "\n",
    "if (sessionID == None):\n",
    "\tprint(\"Unable to connect to PMA.start\");\n",
    "else:\n",
    "\tprint(\"Successfully connected to PMA.start; sessionID = \", sessionID)"
   ]
  },
  {
   "cell_type": "code",
   "execution_count": null,
   "metadata": {},
   "outputs": [],
   "source": [
    "#\n",
    "# example 40: getting drive letters from PMA.start\n",
    "#\n",
    "\n",
    "print(\"You have the following drives in your system: \")\n",
    "rootdirs = core.get_root_directories()\n",
    "pp.pprint(rootdirs)"
   ]
  },
  {
   "cell_type": "code",
   "execution_count": null,
   "metadata": {},
   "outputs": [],
   "source": [
    "#\n",
    "# example 60: getting directories PMA.start\n",
    "#\n",
    "\n",
    "rootdirs = core.get_root_directories();\n",
    "print(\"Directories found in \", rootdirs[0],\":\")\n",
    "\n",
    "dirs = core.get_directories(rootdirs[0])\n",
    "pp.pprint(dirs)"
   ]
  },
  {
   "cell_type": "code",
   "execution_count": null,
   "metadata": {},
   "outputs": [],
   "source": [
    "#\n",
    "# example 80: getting slides PMA.start\n",
    "#\n",
    "\n",
    "slide_dir = core.get_first_non_empty_directory()\n",
    "\n",
    "print(\"Looking for slides in \" + slide_dir)\n",
    "print()\n",
    "\n",
    "pp.pprint(core.get_slides(slide_dir))"
   ]
  },
  {
   "cell_type": "code",
   "execution_count": null,
   "metadata": {},
   "outputs": [],
   "source": [
    "#\n",
    "# example 90: get UID for a slide in PMA.start\n",
    "#\n",
    "\n",
    "slide_dir = core.get_first_non_empty_directory()\n",
    "\n",
    "print(\"Looking for slides in \" + slide_dir)\n",
    "print()\n",
    "\n",
    "for slide in core.get_slides(slide_dir):\n",
    "\tprint (slide,\" - \", core.get_uid(slide))"
   ]
  },
  {
   "cell_type": "code",
   "execution_count": null,
   "metadata": {},
   "outputs": [],
   "source": []
  }
 ],
 "metadata": {
  "kernelspec": {
   "display_name": "Python 3",
   "language": "python",
   "name": "python3"
  },
  "language_info": {
   "codemirror_mode": {
    "name": "ipython",
    "version": 3
   },
   "file_extension": ".py",
   "mimetype": "text/x-python",
   "name": "python",
   "nbconvert_exporter": "python",
   "pygments_lexer": "ipython3",
   "version": "3.7.3"
  }
 },
 "nbformat": 4,
 "nbformat_minor": 2
}
