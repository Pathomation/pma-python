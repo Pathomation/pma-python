{
 "cells": [
  {
   "cell_type": "markdown",
   "metadata": {},
   "source": [
    "# Setup"
   ]
  },
  {
   "cell_type": "markdown",
   "metadata": {},
   "source": [
    "Use pip to download and install the necessary libraries if needed"
   ]
  },
  {
   "cell_type": "code",
   "execution_count": null,
   "metadata": {},
   "outputs": [],
   "source": [
    "!pip install --upgrade pma_python\n",
    "!pip install --upgrade pprint"
   ]
  },
  {
   "cell_type": "markdown",
   "metadata": {},
   "source": [
    "Import libraries and set connection parameters"
   ]
  },
  {
   "cell_type": "code",
   "execution_count": 1,
   "metadata": {},
   "outputs": [
    {
     "name": "stdout",
     "output_type": "stream",
     "text": [
      "pma_python library loaded; version 2.0.0.84\n",
      "PMA.core found. Good\n"
     ]
    }
   ],
   "source": [
    "# helper libraries\n",
    "import pprint as pp    # pretty print library is better to print list and dictionary structures\n",
    "import random\n",
    "\n",
    "# pma_python\n",
    "from pma_python2 import core_admin as ca\n",
    "from pma_python2 import core\n",
    "print(\"pma_python library loaded; version\", core.__version__)\n",
    "\n",
    "# connection parameters to be used throughout this notebook\n",
    "pma_core_server = \"http://host.pathomation.com/sandbox/2/PMA.core\"\n",
    "pma_core_user = \"user1\"\n",
    "pma_core_pass = \"Pathomation\"\n",
    "pma_core_slide_dir = \"hgx_cases\"\n",
    "\n",
    "local_path = \"\"\n",
    "s3_key = \"\"\n",
    "s3_secret = \"\"\n",
    "s3_path = \"\"\n",
    "\n",
    "if not core.is_lite(pma_core_server):\n",
    "    print (\"PMA.core found. Good\")\n",
    "else:\n",
    "    raise Exception(\"Unable to detect PMA.core! Please update configuration parameters in this block\")"
   ]
  },
  {
   "cell_type": "code",
   "execution_count": null,
   "metadata": {},
   "outputs": [],
   "source": [
    "# only needed when debugging code for extra error messages:\n",
    "ca.set_debug_flag(True)"
   ]
  },
  {
   "cell_type": "markdown",
   "metadata": {},
   "source": [
    "# PMA.core administration examples"
   ]
  },
  {
   "cell_type": "markdown",
   "metadata": {},
   "source": [
    "Example 500: admin connect"
   ]
  },
  {
   "cell_type": "code",
   "execution_count": 2,
   "metadata": {},
   "outputs": [
    {
     "name": "stdout",
     "output_type": "stream",
     "text": [
      "Logging in with an 'administrative' user account\n",
      "Administrative SessionID aGZSSzuUGn4m0PoGCOdVhw2\n"
     ]
    }
   ],
   "source": [
    "print(\"Logging in with an 'administrative' user account\")\n",
    "sessionID = ca.admin_connect(pma_core_server, pma_core_user, pma_core_pass)\n",
    "print(\"Administrative SessionID\", sessionID)"
   ]
  },
  {
   "cell_type": "markdown",
   "metadata": {},
   "source": [
    "Example 510: add user"
   ]
  },
  {
   "cell_type": "code",
   "execution_count": 3,
   "metadata": {},
   "outputs": [
    {
     "name": "stdout",
     "output_type": "stream",
     "text": [
      "Using credentials from  aGZSSzuUGn4m0PoGCOdVhw2\n",
      "http://host.pathomation.com/sandbox/2/PMA.core/admin/json/CreateUser\n",
      "﻿<?xml version=\"1.0\" encoding=\"utf-8\"?>\n",
      "<!DOCTYPE html PUBLIC \"-//W3C//DTD XHTML 1.0 Transitional//EN\" \"http://www.w3.org/TR/xhtml1/DTD/xhtml1-transitional.dtd\">\n",
      "<html xmlns=\"http://www.w3.org/1999/xhtml\">\n",
      "  <head>\n",
      "    <title>Service</title>\n",
      "    <style>BODY { color: #000000; background-color: white; font-family: Verdana; margin-left: 0px; margin-top: 0px; } #content { margin-left: 30px; font-size: .70em; padding-bottom: 2em; } A:link { color: #336699; font-weight: bold; text-decoration: underline; } A:visited { color: #6699cc; font-weight: bold; text-decoration: underline; } A:active { color: #336699; font-weight: bold; text-decoration: underline; } .heading1 { background-color: #003366; border-bottom: #336699 6px solid; color: #ffffff; font-family: Tahoma; font-size: 26px; font-weight: normal;margin: 0em 0em 10px -20px; padding-bottom: 8px; padding-left: 30px;padding-top: 16px;} pre { font-size:small; background-color: #e5e5cc; padding: 5px; font-family: Courier New; margin-top: 0px; border: 1px #f0f0e0 solid; white-space: pre-wrap; white-space: -pre-wrap; word-wrap: break-word; } table { border-collapse: collapse; border-spacing: 0px; font-family: Verdana;} table th { border-right: 2px white solid; border-bottom: 2px white solid; font-weight: bold; background-color: #cecf9c;} table td { border-right: 2px white solid; border-bottom: 2px white solid; background-color: #e5e5cc;}</style>\n",
      "  </head>\n",
      "  <body>\n",
      "    <div id=\"content\">\n",
      "      <p class=\"heading1\">Service</p>\n",
      "      <p>Method not allowed.</p>\n",
      "    </div>\n",
      "  </body>\n",
      "</html>\n",
      "SessionID obtained for user71 : None\n"
     ]
    }
   ],
   "source": [
    "new_user = \"user\" + str(random.randint(10,100))\n",
    "new_pass = \"pass\" + str(random.randint(10,100))\n",
    "\n",
    "user = ca.add_user(sessionID, new_user, \"John\", \"Doe\", new_user+\"@doe.family\", new_pass);\n",
    "print(user)\n",
    "new_session = core.connect(pma_core_server, new_user, new_pass);\n",
    "print (\"SessionID obtained for\", new_user, \":\", new_session)"
   ]
  },
  {
   "cell_type": "markdown",
   "metadata": {},
   "source": [
    "Example 520: user exists"
   ]
  },
  {
   "cell_type": "code",
   "execution_count": null,
   "metadata": {},
   "outputs": [],
   "source": []
  },
  {
   "cell_type": "code",
   "execution_count": null,
   "metadata": {},
   "outputs": [],
   "source": []
  }
 ],
 "metadata": {
  "kernelspec": {
   "display_name": "Python 3",
   "language": "python",
   "name": "python3"
  },
  "language_info": {
   "codemirror_mode": {
    "name": "ipython",
    "version": 3
   },
   "file_extension": ".py",
   "mimetype": "text/x-python",
   "name": "python",
   "nbconvert_exporter": "python",
   "pygments_lexer": "ipython3",
   "version": "3.7.3"
  }
 },
 "nbformat": 4,
 "nbformat_minor": 2
}
