{
 "cells": [
  {
   "cell_type": "markdown",
   "metadata": {},
   "source": [
    "# Setup"
   ]
  },
  {
   "cell_type": "markdown",
   "metadata": {},
   "source": [
    "Use pip to download and install the necessary libraries if needed"
   ]
  },
  {
   "cell_type": "code",
   "execution_count": null,
   "metadata": {},
   "outputs": [],
   "source": [
    "!pip install --upgrade pma_python\n",
    "!pip install --upgrade pprint"
   ]
  },
  {
   "cell_type": "markdown",
   "metadata": {},
   "source": [
    "Import libraries and set connection parameters"
   ]
  },
  {
   "cell_type": "code",
   "execution_count": 21,
   "metadata": {},
   "outputs": [
    {
     "name": "stdout",
     "output_type": "stream",
     "text": [
      "pma_python library loaded; version 2.0.0.84\n",
      "PMA.core found. Good\n"
     ]
    }
   ],
   "source": [
    "# helper libraries\n",
    "import pprint as pp    # pretty print library is better to print list and dictionary structures\n",
    "from matplotlib.pyplot import imshow\n",
    "import numpy as np\n",
    "from PIL import Image\n",
    "import pandas as pd\n",
    "\n",
    "# pma_python\n",
    "from pma_python2 import core\n",
    "print(\"pma_python library loaded; version\", core.__version__)\n",
    "\n",
    "# connection parameters to be used throughout this notebook\n",
    "pma_core_server = \"http://host.pathomation.com/sandbox/2/PMA.core\"\n",
    "pma_core_user = \"user1\"\n",
    "pma_core_pass = \"Pathomation\"\n",
    "pma_core_slide_dir = \"hgx_cases\"\n",
    "\n",
    "if not core.is_lite(pma_core_server):\n",
    "    print (\"PMA.core found. Good\")\n",
    "else:\n",
    "    raise Exception(\"Unable to detect PMA.core! Please update configuration parameters in this block\")"
   ]
  },
  {
   "cell_type": "code",
   "execution_count": 8,
   "metadata": {},
   "outputs": [
    {
     "name": "stdout",
     "output_type": "stream",
     "text": [
      "Debug flag enabled. You will receive extra feedback and messages from pma_python (like this one)\n"
     ]
    }
   ],
   "source": [
    "# only needed when debugging code for extra error messages:\n",
    "core.set_debug_flag(True)"
   ]
  },
  {
   "cell_type": "markdown",
   "metadata": {},
   "source": [
    "# PMA.core examples"
   ]
  },
  {
   "cell_type": "markdown",
   "metadata": {},
   "source": [
    "example 10: identifying PMA.core"
   ]
  },
  {
   "cell_type": "code",
   "execution_count": 3,
   "metadata": {
    "scrolled": true
   },
   "outputs": [
    {
     "name": "stdout",
     "output_type": "stream",
     "text": [
      "Are you running PMA.core at  http://host.pathomation.com/sandbox/2/PMA.core ? True\n",
      "Are you running PMA.core at http://nowhere ? None\n"
     ]
    }
   ],
   "source": [
    "# testing actual \"full\" PMA.core instance that may or may not be out there\n",
    "print(\"Are you running PMA.core at \", pma_core_server , \"?\", not core.is_lite(pma_core_server))\n",
    "# testing PMA.core at non-sense location\n",
    "print(\"Are you running PMA.core at http://nowhere ?\", core.is_lite(\"http://nowhere\"));"
   ]
  },
  {
   "cell_type": "markdown",
   "metadata": {},
   "source": [
    "example 20: getting version information about PMA.core"
   ]
  },
  {
   "cell_type": "code",
   "execution_count": 4,
   "metadata": {},
   "outputs": [
    {
     "name": "stdout",
     "output_type": "stream",
     "text": [
      "Investigating http://host.pathomation.com/sandbox/2/PMA.core\n",
      "http://host.pathomation.com/sandbox/2/PMA.core/api/json/GetVersionInfo\n",
      "You are running PMA.core version 2.0.0.1386\n",
      "http://nowhere/api/json/GetVersionInfo\n",
      "None\n",
      "Unable to detect PMA.core at specified location (http://nowhere/)\n"
     ]
    }
   ],
   "source": [
    "# assuming we have PMA.core running; what's the version number?\n",
    "print(\"Investigating\", pma_core_server)\n",
    "print(\"You are running PMA.core version\", core.get_version_info(pma_core_server))\n",
    "\n",
    "version = core.get_version_info(\"http://nowhere\");\n",
    "print (version)\n",
    "if (version == None):\n",
    "\tprint(\"Unable to detect PMA.core at specified location (http://nowhere/)\")\n",
    "else:\n",
    "\tprint(\"You are running PMA.core version\", version);"
   ]
  },
  {
   "cell_type": "markdown",
   "metadata": {},
   "source": [
    "example 30: connect to PMA.core"
   ]
  },
  {
   "cell_type": "code",
   "execution_count": 9,
   "metadata": {},
   "outputs": [
    {
     "name": "stdout",
     "output_type": "stream",
     "text": [
      "Successfully connected to PMA.core; sessionID nBDak_rdY1iKKbfE4y5i9Q2\n"
     ]
    }
   ],
   "source": [
    "sessionID = core.connect(pma_core_server, pma_core_user, pma_core_pass)\t\n",
    "\n",
    "if (sessionID == None):\n",
    "    # PHP has this better: \techo \"User [$pma_core_user] was unable to connect to PMA.core at specified location ($pma_core_server); password used = [$pma_core_pass]\".PHP_EOL;\n",
    "\tprint(\"Unable to connect to PMA.core\");\n",
    "else:\n",
    "\tprint(\"Successfully connected to PMA.core; sessionID\", sessionID)"
   ]
  },
  {
   "cell_type": "markdown",
   "metadata": {},
   "source": [
    "example 40: getting root-directories from PMA.core"
   ]
  },
  {
   "cell_type": "code",
   "execution_count": 10,
   "metadata": {},
   "outputs": [
    {
     "name": "stdout",
     "output_type": "stream",
     "text": [
      "You have the following root-directories on your system: \n",
      "['hgx_cases']\n"
     ]
    }
   ],
   "source": [
    "print(\"You have the following root-directories on your system: \")\n",
    "rootdirs = core.get_root_directories(sessionID)\n",
    "pp.pprint(rootdirs)"
   ]
  },
  {
   "cell_type": "markdown",
   "metadata": {},
   "source": [
    "example 50: disconnect from PMA.core"
   ]
  },
  {
   "cell_type": "code",
   "execution_count": 23,
   "metadata": {},
   "outputs": [
    {
     "name": "stdout",
     "output_type": "stream",
     "text": [
      "{'amountOfDataDownloaded': 8,\n",
      " 'sessionID': '6NQ80b5X5ZyJ94kSqXeAsw2',\n",
      " 'url': 'http://host.pathomation.com/sandbox/2/PMA.core/',\n",
      " 'username': 'user1'}\n",
      "\n",
      "Unable to identify you. Are you connected to the PMA.core instance? Is that a valid sessionID?\n",
      "\n",
      "{'amountOfDataDownloaded': 8,\n",
      " 'sessionID': 'aGZSSzuUGn4m0PoGCOdVhw2',\n",
      " 'url': 'http://host.pathomation.com/sandbox/2/PMA.core/',\n",
      " 'username': 'user1'}\n"
     ]
    }
   ],
   "source": [
    "sessionID = core.connect(pma_core_server, pma_core_user, pma_core_pass)\t\n",
    "pp.pprint(core.who_am_i(sessionID))\n",
    "print()\n",
    "\n",
    "core.disconnect(sessionID)\n",
    "try:\n",
    "    pp.pprint(core.who_am_i(sessionID))\n",
    "    print()\n",
    "except:\n",
    "    print(\"Unable to identify you. Are you connected to the PMA.core instance? Is that a valid sessionID?\")\n",
    "print()\n",
    "    \n",
    "sessionID = core.connect(pma_core_server, pma_core_user, pma_core_pass)\t\n",
    "pp.pprint(core.who_am_i(sessionID))"
   ]
  },
  {
   "cell_type": "markdown",
   "metadata": {},
   "source": [
    "example 60: getting directories from PMA.core"
   ]
  },
  {
   "cell_type": "code",
   "execution_count": null,
   "metadata": {},
   "outputs": [],
   "source": [
    "rootdirs = core.get_root_directories(sessionID);\n",
    "print(\"Directories found in \", rootdirs[0],\":\")\n",
    "\n",
    "dirs = core.get_directories(rootdirs[0], sessionID)\n",
    "pp.pprint(dirs)"
   ]
  },
  {
   "cell_type": "markdown",
   "metadata": {},
   "source": [
    "example 70: get first non empty directory PMA.core"
   ]
  },
  {
   "cell_type": "code",
   "execution_count": null,
   "metadata": {},
   "outputs": [],
   "source": [
    "slide_dir = core.get_first_non_empty_directory()\n",
    "print (slide_dir)"
   ]
  },
  {
   "cell_type": "markdown",
   "metadata": {},
   "source": [
    "example 80: getting slides PMA.core"
   ]
  },
  {
   "cell_type": "code",
   "execution_count": null,
   "metadata": {},
   "outputs": [],
   "source": [
    "slide_dir = pma_core_slide_dir\n",
    "print(\"Looking for slides in \" + slide_dir)\n",
    "print()\n",
    "\n",
    "print (\"**Non-recursive:\")\n",
    "print(core.get_slides(slide_dir))\n",
    "\n",
    "print (\"\\n**One-level deep recursion:\")\n",
    "print(core.get_slides(slide_dir, recursive = 1))\n",
    "\n",
    "print (\"\\n**Full recursion:\")\n",
    "print(core.get_slides(slide_dir, recursive = True))"
   ]
  },
  {
   "cell_type": "markdown",
   "metadata": {},
   "source": [
    "example 90: get UID for a slide in PMA.core"
   ]
  },
  {
   "cell_type": "code",
   "execution_count": null,
   "metadata": {},
   "outputs": [],
   "source": [
    "slide_dir = pma_core_slide_dir\n",
    "\n",
    "print(\"Looking for slides in\", slide_dir)\n",
    "print()\n",
    "\n",
    "for slide in core.get_slides(slide_dir):\n",
    "\tprint (slide,\" - \", core.get_uid(slide))"
   ]
  },
  {
   "cell_type": "markdown",
   "metadata": {},
   "source": [
    "example 100: get fingerprint in PMA.core"
   ]
  },
  {
   "cell_type": "code",
   "execution_count": null,
   "metadata": {},
   "outputs": [],
   "source": [
    "slide_dir = pma_core_slide_dir\n",
    "\n",
    "print(\"Looking for slides in \" + slide_dir)\n",
    "print()\n",
    "\n",
    "for slide in core.get_slides(slide_dir):\n",
    "\tprint (slide,\" - \", core.get_fingerprint(slide))"
   ]
  },
  {
   "cell_type": "markdown",
   "metadata": {},
   "source": [
    "example 110: SlideInfo PMA.core"
   ]
  },
  {
   "cell_type": "code",
   "execution_count": null,
   "metadata": {},
   "outputs": [],
   "source": [
    "slide_dir = pma_core_slide_dir\n",
    "print(\"Looking for slides in\", slide_dir)\n",
    "print()\n",
    "\n",
    "for slide in core.get_slides(slide_dir):\n",
    "    print(\"***\", slide)\n",
    "    try:\n",
    "        pp.pprint(core.get_slide_info(slide))\n",
    "    except:\n",
    "        print(\"**Unable to get slide info from this one\")"
   ]
  },
  {
   "cell_type": "markdown",
   "metadata": {},
   "source": [
    "example 120: slide dimensions PMA.core"
   ]
  },
  {
   "cell_type": "code",
   "execution_count": 18,
   "metadata": {},
   "outputs": [
    {
     "name": "stdout",
     "output_type": "stream",
     "text": [
      "[hgx_cases/CMU-1 - Copy.svs]\n",
      "Pixel dimensions of slide: 46000 x 32914\n",
      "Slide surface area represented by image: 22954.0µm x 16424.086µm = 376.998470044  mm2\n",
      "[hgx_cases/CMU-1.mrxs]\n",
      "Pixel dimensions of slide: 68608 x 95232\n",
      "Slide surface area represented by image: 15951.36µm x 22141.440000000002µm = 353.18608035840003  mm2\n",
      "[hgx_cases/CMU-1.ndpi]\n",
      "Pixel dimensions of slide: 51200 x 38144\n",
      "Slide surface area represented by image: 23368.324965769054µm x 17357.906712172924µm = 405.6252047755608  mm2\n",
      "[hgx_cases/CMU-1.svs]\n",
      "Pixel dimensions of slide: 46000 x 32914\n",
      "Slide surface area represented by image: 22954.0µm x 16424.086µm = 376.998470044  mm2\n",
      "[hgx_cases/CMU-1.tiff]\n",
      "Pixel dimensions of slide: 46000 x 32914\n",
      "Slide surface area represented by image: 46000000.0µm x 32914000.0µm = 1514044000.0  mm2\n"
     ]
    }
   ],
   "source": [
    "slide_dir = pma_core_slide_dir\n",
    "\n",
    "for slide in core.get_slides(slide_dir):\n",
    "    print(\"[\" + slide + \"]\")\n",
    "    try:\n",
    "        xdim_pix, ydim_pix = core.get_pixel_dimensions(slide)\n",
    "        xdim_phys, ydim_phys = core.get_physical_dimensions(slide)\n",
    "\n",
    "        print(\"Pixel dimensions of slide: \", end=\"\")\n",
    "        print(xdim_pix, \"x\", ydim_pix)\n",
    "\n",
    "        print(\"Slide surface area represented by image: \", end=\"\")\n",
    "        print(str(xdim_phys) + \"µm x \" + str(ydim_phys) + \"µm = \", end=\"\")\n",
    "        print(xdim_phys * ydim_phys / 1E6, \" mm2\")\n",
    "        \n",
    "    except:\n",
    "        print(\"**Unable to parse\", slide)"
   ]
  },
  {
   "cell_type": "markdown",
   "metadata": {},
   "source": [
    "example 130: get all files that make up a particular slide"
   ]
  },
  {
   "cell_type": "code",
   "execution_count": null,
   "metadata": {},
   "outputs": [],
   "source": [
    "for slide in core.get_slides(pma_core_slide_dir):\n",
    "    print(slide);\n",
    "    pp.pprint(core.get_files_for_slide(slide))"
   ]
  },
  {
   "cell_type": "markdown",
   "metadata": {},
   "source": [
    "example 140: who are you in PMA.core"
   ]
  },
  {
   "cell_type": "code",
   "execution_count": null,
   "metadata": {},
   "outputs": [],
   "source": [
    "core.who_am_i()"
   ]
  },
  {
   "cell_type": "markdown",
   "metadata": {},
   "source": [
    "example 150: investigate zoomlevels PMA.core"
   ]
  },
  {
   "cell_type": "code",
   "execution_count": null,
   "metadata": {},
   "outputs": [],
   "source": [
    "slide_dir = pma_core_slide_dir\n",
    "\n",
    "for slide in core.get_slides(slide_dir):\n",
    "    print(\"***\", slide)\n",
    "    print(\"  max zoomlevel:\", core.get_max_zoomlevel(slide))\n",
    "    print(\"  zoomlevel list:\")\n",
    "    pp.pprint(core.get_zoomlevels_list(slide))\n",
    "    print(\"  zoomlevel dictionary:\")\n",
    "    pp.pprint(core.get_zoomlevels_dict(slide))"
   ]
  },
  {
   "cell_type": "markdown",
   "metadata": {},
   "source": [
    "example 160: investigate magnification and other characteristics PMA.core"
   ]
  },
  {
   "cell_type": "code",
   "execution_count": 22,
   "metadata": {},
   "outputs": [
    {
     "name": "stdout",
     "output_type": "stream",
     "text": [
      "              slide  approx_mag  exact_mag  is_fluo  is_zstack\n",
      "0  CMU-1 - Copy.svs          20         20    False      False\n",
      "1        CMU-1.mrxs          40         43    False      False\n",
      "2        CMU-1.ndpi          20         22    False      False\n",
      "3         CMU-1.svs          20         20    False      False\n",
      "4        CMU-1.tiff           0          0    False      False\n"
     ]
    }
   ],
   "source": [
    "slide_dir = pma_core_slide_dir\n",
    "\n",
    "slide_infos = []     # create blank list (to be converted into a pandas DataFrame later)\n",
    "\n",
    "for slide in core.get_slides(slide_dir):\n",
    "\tdict = {\n",
    "\t\t\"slide\": core.get_slide_file_name(slide),\n",
    "\t\t\"approx_mag\": core.get_magnification(slide, exact=False),\n",
    "\t\t\"exact_mag\": core.get_magnification(slide, exact=True),\n",
    "\t\t\"is_fluo\": core.is_fluorescent(slide),\n",
    "\t\t\"is_zstack\": core.is_z_stack(slide)\n",
    "\t\t}\n",
    "\tslide_infos.append(dict)\n",
    "\t\n",
    "df_slides = pd.DataFrame(slide_infos, columns=[\"slide\",\"approx_mag\",\"exact_mag\", \"is_fluo\", \"is_zstack\"])\n",
    "print(df_slides)\n"
   ]
  },
  {
   "cell_type": "markdown",
   "metadata": {},
   "source": [
    "example 170: get barcode from slide in PMA.core"
   ]
  },
  {
   "cell_type": "code",
   "execution_count": null,
   "metadata": {},
   "outputs": [],
   "source": [
    "for slide in core.get_slides(pma_core_slide_dir, recursive=True):\n",
    "    print(slide, \" - \", core.get_barcode_text(slide))"
   ]
  },
  {
   "cell_type": "markdown",
   "metadata": {},
   "source": [
    "example 180: show a slide through PMA.core"
   ]
  },
  {
   "cell_type": "code",
   "execution_count": null,
   "metadata": {},
   "outputs": [],
   "source": [
    "slides = core.get_slides(pma_core_slide_dir)\n",
    "core.show_slide(slides[0])"
   ]
  }
 ],
 "metadata": {
  "kernelspec": {
   "display_name": "Python 3",
   "language": "python",
   "name": "python3"
  },
  "language_info": {
   "codemirror_mode": {
    "name": "ipython",
    "version": 3
   },
   "file_extension": ".py",
   "mimetype": "text/x-python",
   "name": "python",
   "nbconvert_exporter": "python",
   "pygments_lexer": "ipython3",
   "version": "3.7.3"
  }
 },
 "nbformat": 4,
 "nbformat_minor": 2
}
