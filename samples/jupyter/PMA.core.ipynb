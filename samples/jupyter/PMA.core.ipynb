{
 "cells": [
  {
   "cell_type": "markdown",
   "metadata": {},
   "source": [
    "# setup"
   ]
  },
  {
   "cell_type": "markdown",
   "metadata": {},
   "source": [
    "Use pip to download and install the necessary libraries if needed"
   ]
  },
  {
   "cell_type": "code",
   "execution_count": null,
   "metadata": {},
   "outputs": [],
   "source": [
    "!pip install --upgrade pma_python\n",
    "!pip install --upgrade pprint"
   ]
  },
  {
   "cell_type": "markdown",
   "metadata": {},
   "source": [
    "Import libraries and set connection parameters"
   ]
  },
  {
   "cell_type": "code",
   "execution_count": null,
   "metadata": {},
   "outputs": [],
   "source": [
    "# helper libraries\n",
    "import pprint as pp    # pretty print library is better to print list and dictionary structures\n",
    "\n",
    "# pma_python\n",
    "from pma_python2 import core\n",
    "print(\"pma_python library loaded; version\", core.__version__)\n",
    "\n",
    "# connection parameters to be used throughout this notebook\n",
    "pma_core_server = \"http://host.pathomation.com/sandbox/2/PMA.core\"\n",
    "pma_core_user = \"user1\"\n",
    "pma_core_pass = \"Pathomation\""
   ]
  },
  {
   "cell_type": "markdown",
   "metadata": {},
   "source": [
    "# examples"
   ]
  },
  {
   "cell_type": "markdown",
   "metadata": {},
   "source": [
    "example 10: identifying PMA.core.py"
   ]
  },
  {
   "cell_type": "code",
   "execution_count": null,
   "metadata": {},
   "outputs": [],
   "source": [
    "# testing actual \"full\" PMA.core instance that may or may not be out there\n",
    "print(\"Are you running PMA.core at \", pma_core_server , \"? \" + str(not core.is_lite(pma_core_server)))"
   ]
  },
  {
   "cell_type": "markdown",
   "metadata": {},
   "source": [
    "example 20: getting version information about PMA.core"
   ]
  },
  {
   "cell_type": "code",
   "execution_count": null,
   "metadata": {},
   "outputs": [],
   "source": [
    "# assuming we have PMA.core running; what's the version number?\n",
    "print(\"Investigating\", pma_core_server)\n",
    "print(\"You are running PMA.core version\", core.get_version_info(pma_core_server))"
   ]
  },
  {
   "cell_type": "markdown",
   "metadata": {},
   "source": [
    "example 30: connect to PMA.core"
   ]
  },
  {
   "cell_type": "code",
   "execution_count": null,
   "metadata": {},
   "outputs": [],
   "source": [
    "sessionID = core.connect(pma_core_server, pma_core_user, pma_core_pass)\t\n",
    "\n",
    "if (sessionID == None):\n",
    "\tprint(\"Unable to connect to PMA.core\");\n",
    "else:\n",
    "\tprint(\"Successfully connected to PMA.core; sessionID\", sessionID)"
   ]
  },
  {
   "cell_type": "markdown",
   "metadata": {},
   "source": [
    "example 40: getting root-directories from PMA.core"
   ]
  },
  {
   "cell_type": "code",
   "execution_count": null,
   "metadata": {},
   "outputs": [],
   "source": [
    "print(\"You have the following root-directories on your system: \")\n",
    "rootdirs = core.get_root_directories(sessionID)\n",
    "pp.pprint(rootdirs)"
   ]
  },
  {
   "cell_type": "markdown",
   "metadata": {},
   "source": [
    "example 60: getting directories PMA.core"
   ]
  },
  {
   "cell_type": "code",
   "execution_count": null,
   "metadata": {},
   "outputs": [],
   "source": [
    "rootdirs = core.get_root_directories(sessionID);\n",
    "print(\"Directories found in \", rootdirs[0],\":\")\n",
    "\n",
    "dirs = core.get_directories(rootdirs[0], sessionID)\n",
    "pp.pprint(dirs)"
   ]
  },
  {
   "cell_type": "markdown",
   "metadata": {},
   "source": [
    "example 80: getting slides PMA.core.py"
   ]
  },
  {
   "cell_type": "code",
   "execution_count": null,
   "metadata": {},
   "outputs": [],
   "source": [
    "slide_dir = core.get_first_non_empty_directory(sessionID = sessionID)\n",
    "\n",
    "print(\"Looking for slides in \" + slide_dir)\n",
    "print()\n",
    "\n",
    "for slide in core.get_slides(slide_dir, sessionID):\n",
    "\tprint (slide)"
   ]
  }
 ],
 "metadata": {
  "kernelspec": {
   "display_name": "Python 3",
   "language": "python",
   "name": "python3"
  },
  "language_info": {
   "codemirror_mode": {
    "name": "ipython",
    "version": 3
   },
   "file_extension": ".py",
   "mimetype": "text/x-python",
   "name": "python",
   "nbconvert_exporter": "python",
   "pygments_lexer": "ipython3",
   "version": "3.7.3"
  }
 },
 "nbformat": 4,
 "nbformat_minor": 2
}
